{
 "cells": [
  {
   "cell_type": "code",
   "execution_count": 1,
   "metadata": {},
   "outputs": [
    {
     "name": "stderr",
     "output_type": "stream",
     "text": [
      "E:\\Program Files (x86)\\Anaconda3\\lib\\site-packages\\ipykernel_launcher.py:5: DeprecationWarning: numpy.core.umath_tests is an internal NumPy module and should not be imported. It will be removed in a future NumPy release.\n",
      "  \"\"\"\n"
     ]
    }
   ],
   "source": [
    "#看看将数据集按年龄或者婚姻分类后预测结果\n",
    "# -*- coding: UTF-8 -*-\n",
    "import pandas as pd\n",
    "import numpy as np\n",
    "import numpy.core.umath_tests\n",
    "import matplotlib as mpl\n",
    "import matplotlib.pyplot as plt\n",
    "%matplotlib inline\n",
    "import seaborn as sns\n",
    "sns.set(style=\"whitegrid\")\n",
    "from sklearn.model_selection import train_test_split\n",
    "from sklearn.model_selection import GridSearchCV\n",
    "from sklearn.model_selection import learning_curve\n",
    "from sklearn.preprocessing import LabelEncoder\n",
    "from sklearn.preprocessing import StandardScaler\n",
    "from sklearn.ensemble import RandomForestRegressor\n",
    "from sklearn.metrics import mean_squared_error"
   ]
  },
  {
   "cell_type": "code",
   "execution_count": 2,
   "metadata": {},
   "outputs": [
    {
     "name": "stdout",
     "output_type": "stream",
     "text": [
      "851751.5494822611\n"
     ]
    }
   ],
   "source": [
    "df1 = pd.read_csv('data/cleaned.csv')\n",
    "df1.sort_values(\"User_ID\",inplace=True)\n",
    "df1=df1.reset_index(drop=True)\n",
    "df1.drop(['Product_ID','Product_Category_1','Product_Category_2','Product_Category_3'], axis=1,inplace=True)\n",
    "tmp_df1 = df1[['User_ID','Purchase']]\n",
    "tmp_df2 = df1[['User_ID','Gender','Age','Occupation','City_Category','Stay_In_Current_City_Years','Marital_Status']]\n",
    "\n",
    "tmp_df = tmp_df1.groupby('User_ID').sum()\n",
    "tmp_df2=tmp_df2.drop_duplicates(['User_ID'])\n",
    "tmp_df2.sort_values(\"User_ID\",inplace=True)\n",
    "tmp_df2=tmp_df2.reset_index(drop=True)\n",
    "\n",
    "tmp_df=tmp_df.reset_index(drop=True)\n",
    "df = pd.concat([tmp_df2,tmp_df['Purchase']],axis=1)\n",
    "print(df['Purchase'].mean())"
   ]
  },
  {
   "cell_type": "code",
   "execution_count": 3,
   "metadata": {},
   "outputs": [
    {
     "name": "stdout",
     "output_type": "stream",
     "text": [
      "User_ID           int64\n",
      "Gender            int32\n",
      "Marital_Status    int64\n",
      "Purchase          int64\n",
      "0-17              uint8\n",
      "18-25             uint8\n",
      "26-35             uint8\n",
      "36-45             uint8\n",
      "46-50             uint8\n",
      "51-55             uint8\n",
      "55+               uint8\n",
      "A                 uint8\n",
      "B                 uint8\n",
      "C                 uint8\n",
      "0                 uint8\n",
      "1                 uint8\n",
      "2                 uint8\n",
      "3                 uint8\n",
      "4+                uint8\n",
      "0                 uint8\n",
      "1                 uint8\n",
      "2                 uint8\n",
      "3                 uint8\n",
      "4                 uint8\n",
      "5                 uint8\n",
      "6                 uint8\n",
      "7                 uint8\n",
      "8                 uint8\n",
      "9                 uint8\n",
      "10                uint8\n",
      "11                uint8\n",
      "12                uint8\n",
      "13                uint8\n",
      "14                uint8\n",
      "15                uint8\n",
      "16                uint8\n",
      "17                uint8\n",
      "18                uint8\n",
      "19                uint8\n",
      "20                uint8\n",
      "dtype: object\n",
      "   User_ID  Gender  Marital_Status  Purchase  0-17  18-25  26-35  36-45  \\\n",
      "0        0       0               0    333481     1      0      0      0   \n",
      "1        1       1               0    810353     0      0      0      0   \n",
      "2        2       1               0    341635     0      0      1      0   \n",
      "3        3       1               1    205987     0      0      0      0   \n",
      "4        4       1               1    821001     0      0      1      0   \n",
      "\n",
      "   46-50  51-55 ...  11  12  13  14  15  16  17  18  19  20  \n",
      "0      0      0 ...   0   0   0   0   0   0   0   0   0   0  \n",
      "1      0      0 ...   0   0   0   0   0   1   0   0   0   0  \n",
      "2      0      0 ...   0   0   0   0   1   0   0   0   0   0  \n",
      "3      1      0 ...   0   0   0   0   0   0   0   0   0   0  \n",
      "4      0      0 ...   0   0   0   0   0   0   0   0   0   1  \n",
      "\n",
      "[5 rows x 40 columns]\n"
     ]
    }
   ],
   "source": [
    "#特征工程 解决编码问题\n",
    "#User_ID和Product_ID使用序号，Gender和Marray使用二元类型，其他使用热编码\n",
    "le_U_ID = LabelEncoder()\n",
    "df['User_ID'] = le_U_ID.fit_transform(df['User_ID'])\n",
    "le_P_ID = LabelEncoder()\n",
    "df['Gender'] = np.where(df['Gender']=='M',1,0) # Female: 0, Male: 1\n",
    "df_Age = pd.get_dummies(df.Age)\n",
    "df_CC = pd.get_dummies(df.City_Category)\n",
    "df_SIC = pd.get_dummies(df.Stay_In_Current_City_Years)\n",
    "df_encoded = pd.concat([df,df_Age,df_CC,df_SIC],axis=1)\n",
    "df_encoded.drop(['Age','City_Category','Stay_In_Current_City_Years'],axis=1,inplace=True)\n",
    "df_ocup = pd.get_dummies(df.Occupation)\n",
    "df_encoded = pd.concat([df_encoded,df_ocup],axis=1)\n",
    "df_encoded.drop(['Occupation'],axis=1,inplace=True)\n",
    "print(df_encoded.dtypes)\n",
    "print(df_encoded.head(5))"
   ]
  },
  {
   "cell_type": "code",
   "execution_count": 4,
   "metadata": {},
   "outputs": [
    {
     "name": "stdout",
     "output_type": "stream",
     "text": [
      "      User_ID  Gender  Marital_Status  Purchase  0-17  18-25  26-35  36-45  \\\n",
      "0           0       0               0    333481     1      0      0      0   \n",
      "1           1       1               0    810353     0      0      0      0   \n",
      "2           2       1               0    341635     0      0      1      0   \n",
      "5           5       0               0    379450     0      0      0      0   \n",
      "8           8       1               0    593960     0      0      1      0   \n",
      "10         10       0               0    556902     0      0      1      0   \n",
      "11         11       1               0    120801     0      0      1      0   \n",
      "13         13       1               0    127629     0      0      0      1   \n",
      "14         14       1               0   1047124     0      0      1      0   \n",
      "16         16       1               0   1425501     0      0      0      0   \n",
      "17         17       0               0   1978675     0      1      0      0   \n",
      "18         18       1               0   1457938     1      0      0      0   \n",
      "19         19       1               0    185747     0      0      1      0   \n",
      "20         20       1               0    126744     0      1      0      0   \n",
      "21         21       1               0   1279678     0      1      0      0   \n",
      "24         24       1               0    534215     0      1      0      0   \n",
      "28         28       1               0    696201     0      0      0      1   \n",
      "29         29       0               0    260985     0      0      0      1   \n",
      "30         30       1               0    496154     0      0      0      0   \n",
      "33         33       0               0    807747     0      1      0      0   \n",
      "35         35       1               0   2316532     0      0      1      0   \n",
      "36         36       0               0    248370     0      0      1      0   \n",
      "37         37       1               0    381977     0      1      0      0   \n",
      "38         38       0               0    146237     0      1      0      0   \n",
      "40         40       1               0    137548     0      0      1      0   \n",
      "43         43       1               0    138367     0      1      0      0   \n",
      "48         48       0               0    200772     1      0      0      0   \n",
      "49         49       1               0    523039     0      1      0      0   \n",
      "50         50       1               0   4270371     0      0      1      0   \n",
      "52         52       0               0    134073     0      0      0      1   \n",
      "...       ...     ...             ...       ...   ...    ...    ...    ...   \n",
      "5832     5832       1               0    819458     0      0      0      1   \n",
      "5833     5833       1               0    209102     0      0      1      0   \n",
      "5834     5834       1               0    206876     0      0      1      0   \n",
      "5839     5839       0               0    441528     1      0      0      0   \n",
      "5842     5842       0               0    271932     0      1      0      0   \n",
      "5847     5847       0               0    328841     0      0      1      0   \n",
      "5848     5848       1               0    658759     0      1      0      0   \n",
      "5853     5853       0               0   1472117     0      0      0      0   \n",
      "5854     5854       0               0    308872     0      0      1      0   \n",
      "5856     5856       0               0    465550     1      0      0      0   \n",
      "5857     5857       1               0   1595982     0      0      0      1   \n",
      "5858     5858       1               0    259682     0      1      0      0   \n",
      "5859     5859       0               0    254736     0      0      1      0   \n",
      "5860     5860       1               0   1710954     0      0      0      1   \n",
      "5861     5861       1               0   1142042     0      0      0      1   \n",
      "5863     5863       0               0    609155     0      0      1      0   \n",
      "5865     5865       0               0    255812     0      0      1      0   \n",
      "5867     5867       0               0    126398     0      0      0      1   \n",
      "5868     5868       1               0    911951     0      0      0      1   \n",
      "5869     5869       1               0    503361     0      0      1      0   \n",
      "5872     5872       1               0    242077     0      0      1      0   \n",
      "5875     5875       0               0    985215     0      0      1      0   \n",
      "5878     5878       1               0    335351     0      1      0      0   \n",
      "5881     5881       0               0    266795     0      1      0      0   \n",
      "5882     5882       1               0    480614     0      0      0      0   \n",
      "5884     5884       1               0    187070     0      0      1      0   \n",
      "5885     5885       0               0    926272     0      0      1      0   \n",
      "5887     5887       0               0   1075037     0      0      0      0   \n",
      "5888     5888       0               0     80859     0      0      0      0   \n",
      "5890     5890       1               0   1562615     0      0      1      0   \n",
      "\n",
      "      46-50  51-55 ...  11  12  13  14  15  16  17  18  19  20  \n",
      "0         0      0 ...   0   0   0   0   0   0   0   0   0   0  \n",
      "1         0      0 ...   0   0   0   0   0   1   0   0   0   0  \n",
      "2         0      0 ...   0   0   0   0   1   0   0   0   0   0  \n",
      "5         0      1 ...   0   0   0   0   0   0   0   0   0   0  \n",
      "8         0      0 ...   0   0   0   0   0   0   1   0   0   0  \n",
      "10        0      0 ...   0   0   0   0   0   0   0   0   0   0  \n",
      "11        0      0 ...   0   1   0   0   0   0   0   0   0   0  \n",
      "13        0      0 ...   0   0   0   0   0   0   0   0   0   0  \n",
      "14        0      0 ...   0   0   0   0   0   0   0   0   0   0  \n",
      "16        0      1 ...   0   0   0   0   0   0   0   0   0   0  \n",
      "17        0      0 ...   0   0   0   0   0   0   0   0   0   0  \n",
      "18        0      0 ...   0   0   0   0   0   0   0   0   0   0  \n",
      "19        0      0 ...   0   0   0   1   0   0   0   0   0   0  \n",
      "20        0      0 ...   0   0   0   0   0   1   0   0   0   0  \n",
      "21        0      0 ...   0   0   0   0   1   0   0   0   0   0  \n",
      "24        0      0 ...   0   0   0   0   0   0   0   0   0   0  \n",
      "28        0      0 ...   0   0   0   0   0   0   0   0   0   0  \n",
      "29        0      0 ...   0   0   0   0   0   0   0   0   0   0  \n",
      "30        0      0 ...   0   0   0   0   0   0   0   0   0   0  \n",
      "33        0      0 ...   0   0   0   0   0   0   0   0   0   0  \n",
      "35        0      0 ...   0   0   0   0   0   0   0   0   0   0  \n",
      "36        0      0 ...   0   0   0   0   0   0   0   0   0   0  \n",
      "37        0      0 ...   0   0   0   0   0   0   0   0   0   0  \n",
      "38        0      0 ...   0   0   0   0   0   0   0   0   0   0  \n",
      "40        0      0 ...   0   1   0   0   0   0   0   0   0   0  \n",
      "43        0      0 ...   0   0   0   0   0   0   0   0   1   0  \n",
      "48        0      0 ...   0   0   0   0   0   0   0   0   0   0  \n",
      "49        0      0 ...   0   0   0   0   0   0   0   0   0   0  \n",
      "50        0      0 ...   0   0   0   0   0   0   0   0   0   0  \n",
      "52        0      0 ...   0   1   0   0   0   0   0   0   0   0  \n",
      "...     ...    ... ...  ..  ..  ..  ..  ..  ..  ..  ..  ..  ..  \n",
      "5832      0      0 ...   0   0   0   0   0   0   0   0   0   0  \n",
      "5833      0      0 ...   0   0   0   0   0   0   0   0   0   0  \n",
      "5834      0      0 ...   0   0   0   0   0   0   0   0   0   0  \n",
      "5839      0      0 ...   0   0   0   0   0   0   0   0   0   0  \n",
      "5842      0      0 ...   0   0   0   0   0   0   0   0   0   0  \n",
      "5847      0      0 ...   0   0   0   0   0   0   0   0   0   0  \n",
      "5848      0      0 ...   0   0   0   0   0   0   0   0   0   0  \n",
      "5853      1      0 ...   0   0   0   0   0   0   1   0   0   0  \n",
      "5854      0      0 ...   0   0   0   0   1   0   0   0   0   0  \n",
      "5856      0      0 ...   0   0   0   0   0   0   0   0   0   0  \n",
      "5857      0      0 ...   0   0   0   0   0   0   1   0   0   0  \n",
      "5858      0      0 ...   0   0   0   0   0   0   0   0   0   0  \n",
      "5859      0      0 ...   0   1   0   0   0   0   0   0   0   0  \n",
      "5860      0      0 ...   0   0   0   0   0   0   0   0   0   0  \n",
      "5861      0      0 ...   0   0   0   0   1   0   0   0   0   0  \n",
      "5863      0      0 ...   0   0   0   0   0   0   0   0   0   1  \n",
      "5865      0      0 ...   0   0   0   0   0   0   0   0   0   0  \n",
      "5867      0      0 ...   0   0   0   0   0   0   0   0   0   0  \n",
      "5868      0      0 ...   0   0   0   0   0   0   0   0   0   0  \n",
      "5869      0      0 ...   0   0   0   0   0   0   0   0   0   0  \n",
      "5872      0      0 ...   0   0   0   0   0   0   1   0   0   0  \n",
      "5875      0      0 ...   0   0   0   0   0   0   0   0   0   0  \n",
      "5878      0      0 ...   0   0   0   0   0   0   0   0   0   0  \n",
      "5881      0      0 ...   0   0   0   0   0   0   0   0   0   0  \n",
      "5882      1      0 ...   0   0   0   0   0   0   0   0   0   0  \n",
      "5884      0      0 ...   0   0   0   1   0   0   0   0   0   0  \n",
      "5885      0      0 ...   0   0   0   0   0   0   0   0   0   0  \n",
      "5887      1      0 ...   0   0   0   0   0   0   0   0   0   0  \n",
      "5888      0      0 ...   0   0   0   0   0   0   0   0   0   0  \n",
      "5890      0      0 ...   0   0   0   0   0   0   0   0   0   0  \n",
      "\n",
      "[3417 rows x 40 columns]\n"
     ]
    }
   ],
   "source": [
    "df_Female=df_encoded[df_encoded['Gender']==1]\n",
    "df_Male=df_encoded[df_encoded['Gender']==0]\n",
    "df_Marry=df_encoded[df_encoded['Marital_Status']==1]\n",
    "df_Unmarry=df_encoded[df_encoded['Marital_Status']==0]\n",
    "print(df_Unmarry)"
   ]
  },
  {
   "cell_type": "code",
   "execution_count": 5,
   "metadata": {},
   "outputs": [],
   "source": [
    "df_frac_Male = df_Male.sample(frac=0.02,random_state=100)\n",
    "X_Male = df_frac_Male.drop(['Purchase','User_ID'], axis=1)\n",
    "y_Male = df_frac_Male['Purchase']\n",
    "X_train_Male,X_test_Male,y_train_Male,y_test_Male = train_test_split(X_Male,y_Male,random_state=100)\n",
    "\n",
    "df_frac_Female = df_Female.sample(frac=0.02,random_state=100)\n",
    "X_Female = df_frac_Female.drop(['Purchase','User_ID'], axis=1)\n",
    "y_Female = df_frac_Female['Purchase']\n",
    "X_train_Female,X_test_Female,y_train_Female,y_test_Female = train_test_split(X_Female,y_Female,random_state=100)\n",
    "\n",
    "df_frac_Marry = df_Marry.sample(frac=0.02,random_state=100)\n",
    "X_Marry = df_frac_Marry.drop(['Purchase','User_ID'], axis=1)\n",
    "y_Marry = df_frac_Marry['Purchase']\n",
    "X_train_Marry,X_test_Marry,y_train_Marry,y_test_Marry = train_test_split(X_Marry,y_Marry,random_state=100)\n",
    "\n",
    "df_frac_Unmarry = df_Unmarry.sample(frac=0.02,random_state=100)\n",
    "X_Unmarry = df_frac_Unmarry.drop(['Purchase','User_ID'], axis=1)\n",
    "y_Unmarry = df_frac_Unmarry['Purchase']\n",
    "X_train_Unmarry,X_test_Unmarry,y_train_Unmarry,y_test_Unmarry = train_test_split(X_Unmarry,y_Unmarry,random_state=100)\n"
   ]
  },
  {
   "cell_type": "code",
   "execution_count": 6,
   "metadata": {},
   "outputs": [],
   "source": [
    "param_grid = {'n_estimators':[1,3,10,30,100,150,300,400,500],'max_depth':[1,3,5,7,9,11]}\n",
    "grid_rf_Male = GridSearchCV(RandomForestRegressor(),param_grid,cv=10,scoring='neg_mean_squared_error').fit(X_train_Male,y_train_Male)\n",
    "grid_rf_Female = GridSearchCV(RandomForestRegressor(),param_grid,cv=10,scoring='neg_mean_squared_error').fit(X_train_Female,y_train_Female)\n",
    "grid_rf_Marry = GridSearchCV(RandomForestRegressor(),param_grid,cv=10,scoring='neg_mean_squared_error').fit(X_train_Marry,y_train_Marry)\n",
    "grid_rf_Unmarry = GridSearchCV(RandomForestRegressor(),param_grid,cv=10,scoring='neg_mean_squared_error').fit(X_train_Unmarry,y_train_Unmarry)"
   ]
  },
  {
   "cell_type": "code",
   "execution_count": 8,
   "metadata": {},
   "outputs": [
    {
     "name": "stdout",
     "output_type": "stream",
     "text": [
      "Male Best parameter: {'max_depth': 1, 'n_estimators': 10}\n",
      "Male Best score: 564057.40\n",
      "Female Best parameter: {'max_depth': 1, 'n_estimators': 3}\n",
      "Female Best score: 649073.09\n",
      "Marry Best parameter: {'max_depth': 1, 'n_estimators': 3}\n",
      "Marry Best score: 964901.52\n",
      "Unmarry Best parameter: {'max_depth': 1, 'n_estimators': 30}\n",
      "Unmarry Best score: 970840.15\n"
     ]
    }
   ],
   "source": [
    "print('Male Best parameter: {}'.format(grid_rf_Male.best_params_))\n",
    "print('Male Best score: {:.2f}'.format((-1*grid_rf_Male.best_score_)**0.5))\n",
    "\n",
    "print('Female Best parameter: {}'.format(grid_rf_Female.best_params_))\n",
    "print('Female Best score: {:.2f}'.format((-1*grid_rf_Female.best_score_)**0.5))\n",
    "\n",
    "print('Marry Best parameter: {}'.format(grid_rf_Marry.best_params_))\n",
    "print('Marry Best score: {:.2f}'.format((-1*grid_rf_Marry.best_score_)**0.5))\n",
    "\n",
    "print('Unmarry Best parameter: {}'.format(grid_rf_Unmarry.best_params_))\n",
    "print('Unmarry Best score: {:.2f}'.format((-1*grid_rf_Unmarry.best_score_)**0.5))"
   ]
  },
  {
   "cell_type": "code",
   "execution_count": 9,
   "metadata": {},
   "outputs": [],
   "source": [
    "train_sizes_Male, train_scores_Male, valid_scores_Male = learning_curve(RandomForestRegressor(max_depth=1, n_estimators=10), X_train_Male, y_train_Male, cv=10, scoring='neg_mean_squared_error')\n",
    "\n",
    "train_sizes_Female, train_scores_Female, valid_scores_Female = learning_curve(RandomForestRegressor(max_depth=1, n_estimators=3), X_train_Female, y_train_Female, cv=10, scoring='neg_mean_squared_error')\n",
    "\n",
    "train_sizes_Marry, train_scores_Marry, valid_scores_Marry = learning_curve(RandomForestRegressor(max_depth=1, n_estimators=3), X_train_Marry, y_train_Marry, cv=10, scoring='neg_mean_squared_error')\n",
    "\n",
    "train_sizes_Unmarry, train_scores_Unmarry, valid_scores_Unmarry = learning_curve(RandomForestRegressor(max_depth=1, n_estimators=30), X_train_Unmarry, y_train_Unmarry, cv=10, scoring='neg_mean_squared_error')\n"
   ]
  },
  {
   "cell_type": "code",
   "execution_count": 15,
   "metadata": {},
   "outputs": [
    {
     "data": {
      "text/plain": [
       "<matplotlib.legend.Legend at 0x245be093588>"
      ]
     },
     "execution_count": 15,
     "metadata": {},
     "output_type": "execute_result"
    },
    {
     "data": {
      "image/png": "[encoded data removed]",
      "text/plain": [
       "<Figure size 432x288 with 1 Axes>"
      ]
     },
     "metadata": {
      "needs_background": "light"
     },
     "output_type": "display_data"
    }
   ],
   "source": [
    "train_scores_Male = (-1*train_scores_Male)**0.5\n",
    "valid_scores_Male = (-1*valid_scores_Male)**0.5\n",
    "train_scores_mean_Male = np.mean(train_scores_Male, axis=1)\n",
    "train_scores_std_Male = np.std(train_scores_Male, axis=1)\n",
    "valid_scores_mean_Male = np.mean(valid_scores_Male, axis=1)\n",
    "valid_scores_std_Male = np.std(valid_scores_Male, axis=1)\n",
    "\n",
    "plt.figure()\n",
    "plt.plot(train_sizes_Male,valid_scores_mean_Male,label='valid')\n",
    "plt.plot(train_sizes_Male,train_scores_mean_Male,label='train')\n",
    "plt.fill_between(train_sizes_Male, train_scores_mean_Male - train_scores_std_Male, train_scores_mean_Male + train_scores_std_Male, alpha=0.3,color=\"g\")\n",
    "plt.fill_between(train_sizes_Male, valid_scores_mean_Male - valid_scores_std_Male,valid_scores_mean_Male + valid_scores_std_Male, alpha=0.3, color=\"b\")\n",
    "plt.xlabel('Number of samples')\n",
    "plt.ylabel('RMSE')\n",
    "#plt.title('Male')\n",
    "plt.legend()"
   ]
  }
 ],
 "metadata": {
  "kernelspec": {
   "display_name": "Python 3",
   "language": "python",
   "name": "python3"
  },
  "language_info": {
   "codemirror_mode": {
    "name": "ipython",
    "version": 3
   },
   "file_extension": ".py",
   "mimetype": "text/x-python",
   "name": "python",
   "nbconvert_exporter": "python",
   "pygments_lexer": "ipython3",
   "version": "3.7.0"
  }
 },
 "nbformat": 4,
 "nbformat_minor": 2
}
