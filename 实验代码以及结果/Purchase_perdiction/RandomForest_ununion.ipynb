{
 "cells": [
  {
   "cell_type": "code",
   "execution_count": 1,
   "metadata": {},
   "outputs": [
    {
     "name": "stderr",
     "output_type": "stream",
     "text": [
      "E:\\Program Files (x86)\\Anaconda3\\lib\\site-packages\\ipykernel\\parentpoller.py:116: UserWarning: Parent poll failed.  If the frontend dies,\n",
      "                the kernel may be left running.  Please let us know\n",
      "                about your system (bitness, Python, etc.) at\n",
      "                ipython-dev@scipy.org\n",
      "  ipython-dev@scipy.org\"\"\")\n",
      "E:\\Program Files (x86)\\Anaconda3\\lib\\site-packages\\ipykernel_launcher.py:3: DeprecationWarning: numpy.core.umath_tests is an internal NumPy module and should not be imported. It will be removed in a future NumPy release.\n",
      "  This is separate from the ipykernel package so we can avoid doing imports until\n"
     ]
    }
   ],
   "source": [
    "import pandas as pd\n",
    "import numpy as np\n",
    "import numpy.core.umath_tests\n",
    "import matplotlib as mpl\n",
    "import matplotlib.pyplot as plt\n",
    "%matplotlib inline\n",
    "import seaborn as sns\n",
    "sns.set(style=\"whitegrid\")"
   ]
  },
  {
   "cell_type": "code",
   "execution_count": 2,
   "metadata": {},
   "outputs": [],
   "source": [
    "from sklearn.model_selection import train_test_split\n",
    "from sklearn.model_selection import GridSearchCV\n",
    "from sklearn.model_selection import learning_curve\n",
    "from sklearn.preprocessing import LabelEncoder\n",
    "from sklearn.preprocessing import StandardScaler\n",
    "from sklearn.ensemble import RandomForestRegressor\n",
    "from sklearn.metrics import mean_squared_error"
   ]
  },
  {
   "cell_type": "code",
   "execution_count": 3,
   "metadata": {},
   "outputs": [],
   "source": [
    "df = pd.read_csv('data/cleaned.csv')"
   ]
  },
  {
   "cell_type": "code",
   "execution_count": 4,
   "metadata": {},
   "outputs": [
    {
     "name": "stdout",
     "output_type": "stream",
     "text": [
      "   User_ID  Product_ID  Gender  Occupation  Marital_Status  \\\n",
      "0        0         670       0          10               0   \n",
      "1        0        2374       0          10               0   \n",
      "2        0         850       0          10               0   \n",
      "3        0         826       0          10               0   \n",
      "4        1        2732       1          16               0   \n",
      "\n",
      "   Product_Category_1  Product_Category_2  Product_Category_3  Purchase  0-17  \\\n",
      "0                   3                 0.0                 0.0      8370     1   \n",
      "1                   1                 6.0                14.0     15200     1   \n",
      "2                  12                 0.0                 0.0      1422     1   \n",
      "3                  12                14.0                 0.0      1057     1   \n",
      "4                   8                 0.0                 0.0      7969     0   \n",
      "\n",
      "  ...  51-55  55+  A  B  C  0  1  2  3  4+  \n",
      "0 ...      0    0  1  0  0  0  0  1  0   0  \n",
      "1 ...      0    0  1  0  0  0  0  1  0   0  \n",
      "2 ...      0    0  1  0  0  0  0  1  0   0  \n",
      "3 ...      0    0  1  0  0  0  0  1  0   0  \n",
      "4 ...      0    1  0  0  1  0  0  0  0   1  \n",
      "\n",
      "[5 rows x 24 columns]\n"
     ]
    }
   ],
   "source": [
    "#特征工程 解决编码问题\n",
    "#User_ID和Product_ID使用序号，Gender和Marray使用二元类型，其他使用热编码\n",
    "le_U_ID = LabelEncoder()\n",
    "df['User_ID'] = le_U_ID.fit_transform(df['User_ID'])\n",
    "le_P_ID = LabelEncoder()\n",
    "df['Product_ID'] = le_P_ID.fit_transform(df['Product_ID'])\n",
    "df['Gender'] = np.where(df['Gender']=='M',1,0) # Female: 0, Male: 1\n",
    "df_Age = pd.get_dummies(df.Age)\n",
    "df_CC = pd.get_dummies(df.City_Category)\n",
    "df_SIC = pd.get_dummies(df.Stay_In_Current_City_Years)\n",
    "df_encoded = pd.concat([df,df_Age,df_CC,df_SIC],axis=1)\n",
    "df_encoded.drop(['Age','City_Category','Stay_In_Current_City_Years'],axis=1,inplace=True)\n",
    "print(df_encoded.head(5))"
   ]
  },
  {
   "cell_type": "code",
   "execution_count": 5,
   "metadata": {},
   "outputs": [],
   "source": [
    "#考虑所有因素的随机森林\n",
    "df_frac = df_encoded.sample(frac=0.02,random_state=100)\n",
    "X = df_frac.drop(['Purchase'], axis=1)\n",
    "y = df_frac['Purchase']\n",
    "X_train,X_test,y_train,y_test = train_test_split(X,y,random_state=100)\n",
    "\n",
    "scaler = StandardScaler().fit(X_train)\n",
    "X_train_scaled = scaler.transform(X_train)\n",
    "X_test_scaled = scaler.transform(X_test)"
   ]
  },
  {
   "cell_type": "code",
   "execution_count": 6,
   "metadata": {},
   "outputs": [
    {
     "name": "stdout",
     "output_type": "stream",
     "text": [
      "Best parameter: {'n_estimators': 300}\n",
      "Best score: 2952.88\n"
     ]
    },
    {
     "data": {
      "image/png": "[encoded data removed]",
      "text/plain": [
       "<Figure size 432x288 with 1 Axes>"
      ]
     },
     "metadata": {
      "needs_background": "light"
     },
     "output_type": "display_data"
    }
   ],
   "source": [
    "#找最好的树数量\n",
    "param_grid = {'n_estimators':[1,3,10,30,100,150,300,500]}\n",
    "grid_rf = GridSearchCV(RandomForestRegressor(),param_grid,cv=10,scoring='neg_mean_squared_error').fit(X_train_scaled,y_train)\n",
    "plt.figure()\n",
    "plt.plot(list(param_grid.values())[0],(-1*grid_rf.cv_results_['mean_test_score'])**0.5)\n",
    "plt.xlabel('Number of trees')\n",
    "plt.ylabel('10-fold CV RMSE')\n",
    "print('Best parameter: {}'.format(grid_rf.best_params_))\n",
    "print('Best score: {:.2f}'.format((-1*grid_rf.best_score_)**0.5))"
   ]
  },
  {
   "cell_type": "code",
   "execution_count": 7,
   "metadata": {},
   "outputs": [
    {
     "name": "stdout",
     "output_type": "stream",
     "text": [
      "[1, 3, 10, 30, 100, 150, 300, 500]\n",
      "[4247.05341258 4247.15943922 4242.77394352 4242.3443541  4241.55523353\n",
      " 4241.96566505 4242.09576348 4241.71934083 3855.31146603 3722.05578694\n",
      " 3734.66784735 3691.72723827 3683.29923415 3680.5794297  3689.64911963\n",
      " 3693.44388342 3389.3974499  3219.04764719 3171.9365182  3182.22730843\n",
      " 3174.08999789 3172.3412981  3177.07998115 3174.10343071 3132.42601186\n",
      " 3024.86600664 2969.0861451  2954.44150995 2948.45280251 2946.2521399\n",
      " 2944.3972186  2945.06369423 3290.58422366 3050.6314955  2985.73445095\n",
      " 2961.92587993 2947.12595654 2942.12719317 2940.66358406 2939.51864026\n",
      " 3550.40413782 3176.86622171 3018.93712812 2970.92592281 2949.01301239\n",
      " 2945.0290755  2943.49453472 2943.85625944]\n",
      "Best parameter: {'max_depth': 9, 'n_estimators': 500}\n",
      "Best score: 2939.52\n"
     ]
    }
   ],
   "source": [
    "#调参\n",
    "param_grid = {'n_estimators':[1,3,10,30,100,150,300,500],'max_depth':[1,3,5,7,9,11]}\n",
    "grid_rf = GridSearchCV(RandomForestRegressor(),param_grid,cv=10,scoring='neg_mean_squared_error').fit(X_train_scaled,y_train)\n",
    "'''\n",
    "plt.figure()\n",
    "plt.plot(np.array(list(param_grid.values())[0]),np.array((-1*grid_rf.cv_results_['mean_test_score'])**0.5))\n",
    "plt.xlabel('Number of trees')\n",
    "plt.ylabel('10-fold CV RMSE')\n",
    "'''\n",
    "print(list(param_grid.values())[0])\n",
    "print((-1*grid_rf.cv_results_['mean_test_score'])**0.5)\n",
    "print('Best parameter: {}'.format(grid_rf.best_params_))\n",
    "print('Best score: {:.2f}'.format((-1*grid_rf.best_score_)**0.5))"
   ]
  },
  {
   "cell_type": "code",
   "execution_count": 8,
   "metadata": {},
   "outputs": [],
   "source": [
    "#最好参数：'max_depth': 9, 'n_estimators': 150\n",
    "train_sizes, train_scores, valid_scores = learning_curve(RandomForestRegressor(max_depth=9, n_estimators=500), X_train_scaled, y_train, cv=10, scoring='neg_mean_squared_error')"
   ]
  },
  {
   "cell_type": "code",
   "execution_count": 9,
   "metadata": {},
   "outputs": [
    {
     "data": {
      "text/plain": [
       "<matplotlib.legend.Legend at 0x22734bbdc50>"
      ]
     },
     "execution_count": 9,
     "metadata": {},
     "output_type": "execute_result"
    },
    {
     "data": {
      "image/png": "[encoded data removed]",
      "text/plain": [
       "<Figure size 432x288 with 1 Axes>"
      ]
     },
     "metadata": {
      "needs_background": "light"
     },
     "output_type": "display_data"
    }
   ],
   "source": [
    "#预测与可视化\n",
    "train_scores = (-1*train_scores)**0.5\n",
    "valid_scores = (-1*valid_scores)**0.5\n",
    "train_scores_mean = np.mean(train_scores, axis=1)\n",
    "train_scores_std = np.std(train_scores, axis=1)\n",
    "valid_scores_mean = np.mean(valid_scores, axis=1)\n",
    "valid_scores_std = np.std(valid_scores, axis=1)\n",
    "\n",
    "plt.figure()\n",
    "plt.plot(train_sizes,valid_scores_mean,label='valid')\n",
    "plt.plot(train_sizes,train_scores_mean,label='train')\n",
    "plt.fill_between(train_sizes, train_scores_mean - train_scores_std, train_scores_mean + train_scores_std, alpha=0.3,color=\"g\")\n",
    "plt.fill_between(train_sizes, valid_scores_mean - valid_scores_std,valid_scores_mean + valid_scores_std, alpha=0.3, color=\"b\")\n",
    "plt.xlabel('Number of samples')\n",
    "plt.ylabel('RMSE')\n",
    "plt.legend()"
   ]
  },
  {
   "cell_type": "code",
   "execution_count": 12,
   "metadata": {
    "scrolled": true
   },
   "outputs": [
    {
     "data": {
      "text/plain": [
       "Text(0.5,0,'relative importance')"
      ]
     },
     "execution_count": 12,
     "metadata": {},
     "output_type": "execute_result"
    },
    {
     "data": {
      "image/png": "[encoded data removed]",
      "text/plain": [
       "<Figure size 432x288 with 1 Axes>"
      ]
     },
     "metadata": {
      "needs_background": "light"
     },
     "output_type": "display_data"
    }
   ],
   "source": [
    "#特征依赖性分析\n",
    "rf = RandomForestRegressor(max_depth=9, n_estimators=500).fit(X_train_scaled,y_train)\n",
    "f_im = rf.feature_importances_.round(3)\n",
    "ser_rank = pd.Series(f_im,index=X.columns).sort_values(ascending=False)\n",
    "\n",
    "plt.figure()\n",
    "sns.barplot(y=ser_rank.index,x=ser_rank.values,palette='deep')\n",
    "plt.xlabel('relative importance')"
   ]
  },
  {
   "cell_type": "code",
   "execution_count": 14,
   "metadata": {},
   "outputs": [
    {
     "name": "stdout",
     "output_type": "stream",
     "text": [
      "Test set RMSE: 2840.182\n"
     ]
    }
   ],
   "source": [
    "#上图表示有可能有数据泄露，虽然准确率不错，但应该用其他属性预测\n",
    "X = df_encoded.drop(['Purchase'], axis=1)\n",
    "y = df_encoded['Purchase']\n",
    "X_train,X_test,y_train,y_test = train_test_split(X,y,random_state=100)\n",
    "\n",
    "scaler = StandardScaler().fit(X_train)\n",
    "X_train_scaled = scaler.transform(X_train)\n",
    "X_test_scaled = scaler.transform(X_test)\n",
    "\n",
    "rf = RandomForestRegressor(max_depth=9, n_estimators=500).fit(X_train_scaled,y_train)\n",
    "y_predicted = rf.predict(X_test_scaled)\n",
    "print('Test set RMSE: {:.3f}'.format(mean_squared_error(y_test,y_predicted)**0.5))"
   ]
  },
  {
   "cell_type": "code",
   "execution_count": 15,
   "metadata": {},
   "outputs": [],
   "source": [
    "#使用低属性\n",
    "df_ocup = pd.get_dummies(df.Occupation)\n",
    "df_encoded = pd.concat([df_encoded,df_ocup],axis=1)\n",
    "df_encoded.drop(['Occupation'],axis=1,inplace=True)"
   ]
  },
  {
   "cell_type": "code",
   "execution_count": 16,
   "metadata": {},
   "outputs": [
    {
     "name": "stdout",
     "output_type": "stream",
     "text": [
      "        User_ID  Product_ID  Gender  Marital_Status  Product_Category_1  \\\n",
      "0             0         670       0               0                   3   \n",
      "1             0        2374       0               0                   1   \n",
      "2             0         850       0               0                  12   \n",
      "3             0         826       0               0                  12   \n",
      "4             1        2732       1               0                   8   \n",
      "5             2        1829       1               0                   1   \n",
      "6             3        1743       1               1                   1   \n",
      "7             3        3318       1               1                   1   \n",
      "8             3        3596       1               1                   1   \n",
      "9             4        2629       1               1                   8   \n",
      "10            4        2396       1               1                   5   \n",
      "11            4         140       1               1                   8   \n",
      "12            4         307       1               1                   8   \n",
      "13            4        1353       1               1                   1   \n",
      "14            5        2201       0               0                   5   \n",
      "15            5        1796       0               0                   4   \n",
      "16            5        3590       0               0                   2   \n",
      "17            5         572       0               0                   5   \n",
      "18            6         362       1               1                   1   \n",
      "19            7        2380       1               1                   1   \n",
      "20            7        2094       1               1                   5   \n",
      "21            7        1467       1               1                   8   \n",
      "22            7        2027       1               1                   8   \n",
      "23            7        2034       1               1                   8   \n",
      "24            7        2907       1               1                   1   \n",
      "25            8        1262       1               0                   6   \n",
      "26            8         391       1               0                   8   \n",
      "27            8        1515       1               0                   5   \n",
      "28            8         763       1               0                   5   \n",
      "29            9         831       0               1                   2   \n",
      "...         ...         ...     ...             ...                 ...   \n",
      "537547     4615        2325       1               0                   1   \n",
      "537548     4616        1017       1               1                  15   \n",
      "537549     4616        3315       1               1                   2   \n",
      "537550     4617        2662       1               0                   1   \n",
      "537551     4617        3001       1               0                   5   \n",
      "537552     4617        3610       1               0                   6   \n",
      "537553     4617        1100       1               0                  10   \n",
      "537554     4617        1047       1               0                   5   \n",
      "537555     4617        1256       1               0                  13   \n",
      "537556     4618        1839       1               1                   8   \n",
      "537557     4618        1646       1               1                   2   \n",
      "537558     4618         928       1               1                   8   \n",
      "537559     4618         998       1               1                   8   \n",
      "537560     4618         820       1               1                   8   \n",
      "537561     4618         757       1               1                   8   \n",
      "537562     4618        1370       1               1                   1   \n",
      "537563     4618        1449       1               1                   8   \n",
      "537564     4618        1081       1               1                   5   \n",
      "537565     4618         502       1               1                   8   \n",
      "537566     4618         478       1               1                   5   \n",
      "537567     4618        1477       1               1                   8   \n",
      "537568     4618        2390       1               1                  11   \n",
      "537569     4618         226       1               1                   5   \n",
      "537570     4618        1525       1               1                   1   \n",
      "537571     4619        2104       1               0                   1   \n",
      "537572     4619        1829       1               0                   1   \n",
      "537573     4619        1018       1               0                   1   \n",
      "537574     4619        3316       1               0                   8   \n",
      "537575     4619        2736       1               0                   5   \n",
      "537576     4619        1089       1               0                   5   \n",
      "\n",
      "        Product_Category_2  Product_Category_3  Purchase  0-17  18-25 ...  11  \\\n",
      "0                      0.0                 0.0      8370     1      0 ...   0   \n",
      "1                      6.0                14.0     15200     1      0 ...   0   \n",
      "2                      0.0                 0.0      1422     1      0 ...   0   \n",
      "3                     14.0                 0.0      1057     1      0 ...   0   \n",
      "4                      0.0                 0.0      7969     0      0 ...   0   \n",
      "5                      2.0                 0.0     15227     0      0 ...   0   \n",
      "6                      8.0                17.0     19215     0      0 ...   0   \n",
      "7                     15.0                 0.0     15854     0      0 ...   0   \n",
      "8                     16.0                 0.0     15686     0      0 ...   0   \n",
      "9                      0.0                 0.0      7871     0      0 ...   0   \n",
      "10                    11.0                 0.0      5254     0      0 ...   0   \n",
      "11                     0.0                 0.0      3957     0      0 ...   0   \n",
      "12                     0.0                 0.0      6073     0      0 ...   0   \n",
      "13                     2.0                 5.0     15665     0      0 ...   0   \n",
      "14                     8.0                14.0      5378     0      0 ...   0   \n",
      "15                     5.0                 0.0      2079     0      0 ...   0   \n",
      "16                     3.0                 4.0     13055     0      0 ...   0   \n",
      "17                    14.0                 0.0      8851     0      0 ...   0   \n",
      "18                    14.0                16.0     11788     0      0 ...   0   \n",
      "19                     5.0                15.0     19614     0      0 ...   0   \n",
      "20                    14.0                 0.0      8584     0      0 ...   0   \n",
      "21                     0.0                 0.0      9872     0      0 ...   0   \n",
      "22                     0.0                 0.0      9743     0      0 ...   0   \n",
      "23                     0.0                 0.0      5982     0      0 ...   0   \n",
      "24                     8.0                14.0     11927     0      0 ...   0   \n",
      "25                     8.0                 0.0     16662     0      0 ...   0   \n",
      "26                     0.0                 0.0      5887     0      0 ...   0   \n",
      "27                    14.0                 0.0      6973     0      0 ...   0   \n",
      "28                     8.0                14.0      5391     0      0 ...   0   \n",
      "29                     4.0                 8.0     16352     0      0 ...   0   \n",
      "...                    ...                 ...       ...   ...    ... ...  ..   \n",
      "537547                 2.0                15.0     11543     0      1 ...   0   \n",
      "537548                 0.0                 0.0     20924     0      0 ...   0   \n",
      "537549                 8.0                14.0     13082     0      0 ...   0   \n",
      "537550                 0.0                 0.0     11658     0      0 ...   0   \n",
      "537551                 6.0                 8.0      6863     0      0 ...   0   \n",
      "537552                 8.0                 0.0     16415     0      0 ...   0   \n",
      "537553                13.0                 0.0     18526     0      0 ...   0   \n",
      "537554                14.0                 0.0      7099     0      0 ...   0   \n",
      "537555                16.0                 0.0       578     0      0 ...   0   \n",
      "537556                14.0                 0.0      2183     0      1 ...   0   \n",
      "537557                 0.0                 0.0     12724     0      1 ...   0   \n",
      "537558                17.0                 0.0      7796     0      1 ...   0   \n",
      "537559                17.0                 0.0      7770     0      1 ...   0   \n",
      "537560                16.0                 0.0      5940     0      1 ...   0   \n",
      "537561                16.0                 0.0      7834     0      1 ...   0   \n",
      "537562                13.0                14.0     11508     0      1 ...   0   \n",
      "537563                 0.0                 0.0      6074     0      1 ...   0   \n",
      "537564                14.0                 0.0      7084     0      1 ...   0   \n",
      "537565                 0.0                 0.0      7934     0      1 ...   0   \n",
      "537566                 0.0                 0.0      5350     0      1 ...   0   \n",
      "537567                14.0                 0.0      1994     0      1 ...   0   \n",
      "537568                 0.0                 0.0      5930     0      1 ...   0   \n",
      "537569                14.0                 0.0      7042     0      1 ...   0   \n",
      "537570                16.0                 0.0     15491     0      1 ...   0   \n",
      "537571                 2.0                 5.0     11852     0      0 ...   0   \n",
      "537572                 2.0                 0.0     11664     0      0 ...   0   \n",
      "537573                15.0                16.0     19196     0      0 ...   0   \n",
      "537574                15.0                 0.0      8043     0      0 ...   0   \n",
      "537575                 0.0                 0.0      7172     0      0 ...   0   \n",
      "537576                 8.0                 0.0      6875     0      0 ...   0   \n",
      "\n",
      "        12  13  14  15  16  17  18  19  20  \n",
      "0        0   0   0   0   0   0   0   0   0  \n",
      "1        0   0   0   0   0   0   0   0   0  \n",
      "2        0   0   0   0   0   0   0   0   0  \n",
      "3        0   0   0   0   0   0   0   0   0  \n",
      "4        0   0   0   0   1   0   0   0   0  \n",
      "5        0   0   0   1   0   0   0   0   0  \n",
      "6        0   0   0   0   0   0   0   0   0  \n",
      "7        0   0   0   0   0   0   0   0   0  \n",
      "8        0   0   0   0   0   0   0   0   0  \n",
      "9        0   0   0   0   0   0   0   0   1  \n",
      "10       0   0   0   0   0   0   0   0   1  \n",
      "11       0   0   0   0   0   0   0   0   1  \n",
      "12       0   0   0   0   0   0   0   0   1  \n",
      "13       0   0   0   0   0   0   0   0   1  \n",
      "14       0   0   0   0   0   0   0   0   0  \n",
      "15       0   0   0   0   0   0   0   0   0  \n",
      "16       0   0   0   0   0   0   0   0   0  \n",
      "17       0   0   0   0   0   0   0   0   0  \n",
      "18       0   0   0   0   0   0   0   0   0  \n",
      "19       1   0   0   0   0   0   0   0   0  \n",
      "20       1   0   0   0   0   0   0   0   0  \n",
      "21       1   0   0   0   0   0   0   0   0  \n",
      "22       1   0   0   0   0   0   0   0   0  \n",
      "23       1   0   0   0   0   0   0   0   0  \n",
      "24       1   0   0   0   0   0   0   0   0  \n",
      "25       0   0   0   0   0   1   0   0   0  \n",
      "26       0   0   0   0   0   1   0   0   0  \n",
      "27       0   0   0   0   0   1   0   0   0  \n",
      "28       0   0   0   0   0   1   0   0   0  \n",
      "29       0   0   0   0   0   0   0   0   0  \n",
      "...     ..  ..  ..  ..  ..  ..  ..  ..  ..  \n",
      "537547   0   0   0   0   0   0   1   0   0  \n",
      "537548   0   0   0   0   0   0   0   0   0  \n",
      "537549   0   0   0   0   0   0   0   0   0  \n",
      "537550   0   0   0   0   0   0   0   0   0  \n",
      "537551   0   0   0   0   0   0   0   0   0  \n",
      "537552   0   0   0   0   0   0   0   0   0  \n",
      "537553   0   0   0   0   0   0   0   0   0  \n",
      "537554   0   0   0   0   0   0   0   0   0  \n",
      "537555   0   0   0   0   0   0   0   0   0  \n",
      "537556   0   0   0   0   0   0   0   0   1  \n",
      "537557   0   0   0   0   0   0   0   0   1  \n",
      "537558   0   0   0   0   0   0   0   0   1  \n",
      "537559   0   0   0   0   0   0   0   0   1  \n",
      "537560   0   0   0   0   0   0   0   0   1  \n",
      "537561   0   0   0   0   0   0   0   0   1  \n",
      "537562   0   0   0   0   0   0   0   0   1  \n",
      "537563   0   0   0   0   0   0   0   0   1  \n",
      "537564   0   0   0   0   0   0   0   0   1  \n",
      "537565   0   0   0   0   0   0   0   0   1  \n",
      "537566   0   0   0   0   0   0   0   0   1  \n",
      "537567   0   0   0   0   0   0   0   0   1  \n",
      "537568   0   0   0   0   0   0   0   0   1  \n",
      "537569   0   0   0   0   0   0   0   0   1  \n",
      "537570   0   0   0   0   0   0   0   0   1  \n",
      "537571   0   0   0   0   1   0   0   0   0  \n",
      "537572   0   0   0   0   1   0   0   0   0  \n",
      "537573   0   0   0   0   1   0   0   0   0  \n",
      "537574   0   0   0   0   1   0   0   0   0  \n",
      "537575   0   0   0   0   1   0   0   0   0  \n",
      "537576   0   0   0   0   1   0   0   0   0  \n",
      "\n",
      "[537577 rows x 44 columns]\n"
     ]
    }
   ],
   "source": [
    "print(df_encoded)"
   ]
  },
  {
   "cell_type": "code",
   "execution_count": 17,
   "metadata": {},
   "outputs": [],
   "source": [
    "df_frac = df_encoded.sample(frac=0.02,random_state=100)\n",
    "X = df_frac.drop(['Purchase','User_ID','Product_ID','Product_Category_1','Product_Category_2','Product_Category_3'], axis=1)\n",
    "y = df_frac['Purchase']\n",
    "X_train,X_test,y_train,y_test = train_test_split(X,y,random_state=100)"
   ]
  },
  {
   "cell_type": "code",
   "execution_count": 18,
   "metadata": {},
   "outputs": [],
   "source": [
    "param_grid = {'n_estimators':[1,3,10,30,100,150,300,400,500],'max_depth':[1,3,5,7,9,11]}\n",
    "grid_rf = GridSearchCV(RandomForestRegressor(),param_grid,cv=10,scoring='neg_mean_squared_error').fit(X_train,y_train)"
   ]
  },
  {
   "cell_type": "code",
   "execution_count": 19,
   "metadata": {},
   "outputs": [
    {
     "name": "stdout",
     "output_type": "stream",
     "text": [
      "Best parameter: {'max_depth': 5, 'n_estimators': 30}\n",
      "Best score: 4936.66\n"
     ]
    }
   ],
   "source": [
    "print('Best parameter: {}'.format(grid_rf.best_params_))\n",
    "print('Best score: {:.2f}'.format((-1*grid_rf.best_score_)**0.5))"
   ]
  },
  {
   "cell_type": "code",
   "execution_count": 20,
   "metadata": {},
   "outputs": [],
   "source": [
    "train_sizes, train_scores, valid_scores = learning_curve(RandomForestRegressor(max_depth=5, n_estimators=30), X_train, y_train, cv=10, scoring='neg_mean_squared_error')"
   ]
  },
  {
   "cell_type": "code",
   "execution_count": 21,
   "metadata": {},
   "outputs": [
    {
     "data": {
      "text/plain": [
       "<matplotlib.legend.Legend at 0x22734e52e48>"
      ]
     },
     "execution_count": 21,
     "metadata": {},
     "output_type": "execute_result"
    },
    {
     "data": {
      "image/png": "[encoded data removed]",
      "text/plain": [
       "<Figure size 432x288 with 1 Axes>"
      ]
     },
     "metadata": {
      "needs_background": "light"
     },
     "output_type": "display_data"
    }
   ],
   "source": [
    "train_scores = (-1*train_scores)**0.5\n",
    "valid_scores = (-1*valid_scores)**0.5\n",
    "train_scores_mean = np.mean(train_scores, axis=1)\n",
    "train_scores_std = np.std(train_scores, axis=1)\n",
    "valid_scores_mean = np.mean(valid_scores, axis=1)\n",
    "valid_scores_std = np.std(valid_scores, axis=1)\n",
    "\n",
    "plt.figure()\n",
    "plt.plot(train_sizes,valid_scores_mean,label='valid')\n",
    "plt.plot(train_sizes,train_scores_mean,label='train')\n",
    "plt.fill_between(train_sizes, train_scores_mean - train_scores_std, train_scores_mean + train_scores_std, alpha=0.3,color=\"g\")\n",
    "plt.fill_between(train_sizes, valid_scores_mean - valid_scores_std,valid_scores_mean + valid_scores_std, alpha=0.3, color=\"b\")\n",
    "plt.xlabel('Number of samples')\n",
    "plt.ylabel('RMSE')\n",
    "plt.legend()"
   ]
  },
  {
   "cell_type": "code",
   "execution_count": 22,
   "metadata": {},
   "outputs": [
    {
     "data": {
      "text/plain": [
       "Text(0.5,0,'relative importance')"
      ]
     },
     "execution_count": 22,
     "metadata": {},
     "output_type": "execute_result"
    },
    {
     "data": {
      "image/png": "[encoded data removed]",
      "text/plain": [
       "<Figure size 432x288 with 1 Axes>"
      ]
     },
     "metadata": {
      "needs_background": "light"
     },
     "output_type": "display_data"
    }
   ],
   "source": [
    "rf = RandomForestRegressor(max_depth=5, n_estimators=30).fit(X_train,y_train)\n",
    "f_im = rf.feature_importances_.round(3)\n",
    "ser_rank = pd.Series(f_im,index=X.columns).sort_values(ascending=False)\n",
    "\n",
    "plt.figure()\n",
    "sns.barplot(y=ser_rank.index,x=ser_rank.values,palette='deep')\n",
    "plt.xlabel('relative importance')"
   ]
  },
  {
   "cell_type": "code",
   "execution_count": 23,
   "metadata": {},
   "outputs": [
    {
     "name": "stdout",
     "output_type": "stream",
     "text": [
      "Test set RMSE: 4877.794\n"
     ]
    }
   ],
   "source": [
    "y_predicted = rf.predict(X_test)\n",
    "print('Test set RMSE: {:.3f}'.format(mean_squared_error(y_test,y_predicted)**0.5))"
   ]
  }
 ],
 "metadata": {
  "kernelspec": {
   "display_name": "Python 3",
   "language": "python",
   "name": "python3"
  },
  "language_info": {
   "codemirror_mode": {
    "name": "ipython",
    "version": 3
   },
   "file_extension": ".py",
   "mimetype": "text/x-python",
   "name": "python",
   "nbconvert_exporter": "python",
   "pygments_lexer": "ipython3",
   "version": "3.7.0"
  }
 },
 "nbformat": 4,
 "nbformat_minor": 2
}
